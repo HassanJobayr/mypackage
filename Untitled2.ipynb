{
 "cells": [
  {
   "cell_type": "markdown",
   "id": "bd880460-2ad3-403b-843f-c576199f0dfb",
   "metadata": {},
   "source": [
    "# Question 1\n",
    "Basic arithmic"
   ]
  },
  {
   "cell_type": "code",
   "execution_count": 1,
   "id": "f067b809-e799-4ce6-b6f6-96dd9b721ef6",
   "metadata": {},
   "outputs": [
    {
     "data": {
      "text/plain": [
       "28"
      ]
     },
     "execution_count": 1,
     "metadata": {},
     "output_type": "execute_result"
    }
   ],
   "source": [
    "5*5+3"
   ]
  },
  {
   "cell_type": "code",
   "execution_count": null,
   "id": "fef9f885-9fad-4678-94b5-e4cec8946d44",
   "metadata": {},
   "outputs": [],
   "source": []
  }
 ],
 "metadata": {
  "kernelspec": {
   "display_name": "Python 3 (ipykernel)",
   "language": "python",
   "name": "python3"
  },
  "language_info": {
   "codemirror_mode": {
    "name": "ipython",
    "version": 3
   },
   "file_extension": ".py",
   "mimetype": "text/x-python",
   "name": "python",
   "nbconvert_exporter": "python",
   "pygments_lexer": "ipython3",
   "version": "3.12.4"
  }
 },
 "nbformat": 4,
 "nbformat_minor": 5
}
