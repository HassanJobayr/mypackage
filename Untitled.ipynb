{
 "cells": [
  {
   "cell_type": "code",
   "execution_count": 2,
   "id": "b8756833-8c77-45c9-9416-42c18ca9eca0",
   "metadata": {},
   "outputs": [
    {
     "name": "stdout",
     "output_type": "stream",
     "text": [
      "Defaulting to user installation because normal site-packages is not writeable\n",
      "Requirement already satisfied: prettytable in c:\\users\\dell\\appdata\\roaming\\python\\python312\\site-packages (3.10.2)\n",
      "Requirement already satisfied: wcwidth in c:\\programdata\\anaconda3\\envs\\creating_an_envirenement\\lib\\site-packages (from prettytable) (0.2.5)\n"
     ]
    }
   ],
   "source": [
    "!pip install prettytable\n"
   ]
  },
  {
   "cell_type": "code",
   "execution_count": null,
   "id": "a1751183-e89e-454b-90b0-beb431de1147",
   "metadata": {},
   "outputs": [],
   "source": []
  },
  {
   "cell_type": "code",
   "execution_count": null,
   "id": "b0b3ecdd-3e35-45df-ae1a-8b800cd58195",
   "metadata": {},
   "outputs": [],
   "source": []
  }
 ],
 "metadata": {
  "kernelspec": {
   "display_name": "Python 3 (ipykernel)",
   "language": "python",
   "name": "python3"
  },
  "language_info": {
   "codemirror_mode": {
    "name": "ipython",
    "version": 3
   },
   "file_extension": ".py",
   "mimetype": "text/x-python",
   "name": "python",
   "nbconvert_exporter": "python",
   "pygments_lexer": "ipython3",
   "version": "3.12.4"
  }
 },
 "nbformat": 4,
 "nbformat_minor": 5
}
