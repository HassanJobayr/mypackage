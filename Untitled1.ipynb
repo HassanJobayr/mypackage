{
 "cells": [
  {
   "cell_type": "code",
   "execution_count": null,
   "id": "37bdb47d-091b-4f83-9f70-fd3e9b46eefe",
   "metadata": {},
   "outputs": [],
   "source": [
    "%%sql\n",
    "SELECT \n",
    "    COUNT(*) AS total_entries \n",
    "FROM \n",
    "    Access_to_Basic_Services\n"
   ]
  }
 ],
 "metadata": {
  "kernelspec": {
   "display_name": "Python 3 (ipykernel)",
   "language": "python",
   "name": "python3"
  },
  "language_info": {
   "codemirror_mode": {
    "name": "ipython",
    "version": 3
   },
   "file_extension": ".py",
   "mimetype": "text/x-python",
   "name": "python",
   "nbconvert_exporter": "python",
   "pygments_lexer": "ipython3",
   "version": "3.12.4"
  }
 },
 "nbformat": 4,
 "nbformat_minor": 5
}
