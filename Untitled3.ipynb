{
 "cells": [
  {
   "cell_type": "code",
   "execution_count": null,
   "id": "983c1344-f5d7-4a74-be42-b0bbb4075ed6",
   "metadata": {},
   "outputs": [],
   "source": []
  },
  {
   "cell_type": "code",
   "execution_count": null,
   "id": "666365cc-0898-4c65-9db7-1496714f06a2",
   "metadata": {},
   "outputs": [],
   "source": []
  }
 ],
 "metadata": {
  "kernelspec": {
   "display_name": "",
   "name": ""
  },
  "language_info": {
   "name": ""
  }
 },
 "nbformat": 4,
 "nbformat_minor": 5
}
